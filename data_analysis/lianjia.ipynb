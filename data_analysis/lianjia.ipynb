{
 "cells": [
  {
   "cell_type": "markdown",
   "metadata": {},
   "source": [
    "# 利用Python对链家网北京主城区二手房进行数据分析\n",
    "* 本文主要讲述如何通过pandas对爬虫下来的链家数据进行相应的二手房数据分析，主要分析内容包括各个行政区，各个小区的房源信息情况。\n",
    "* 数据来源 https://github.com/XuefengHuang/lianjia-scrawler 该repo提供了python程序进行链家网爬虫，并从中提取二手房价格、面积、户型和二手房关注度等数据。\n",
    "* 分析方法参考 http://www.jianshu.com/p/44f261a62c0f"
   ]
  },
  {
   "cell_type": "markdown",
   "metadata": {},
   "source": [
    "## 导入链家网二手房在售房源的文件（数据更新时间2017-11-29）"
   ]
  },
  {
   "cell_type": "code",
   "execution_count": null,
   "metadata": {
    "collapsed": true
   },
   "outputs": [
    {
     "ename": "ModuleNotFoundError",
     "evalue": "No module named 'sklearn'",
     "traceback": [
      "\u001b[1;31m---------------------------------------------------------------------------\u001b[0m",
      "\u001b[1;31mModuleNotFoundError\u001b[0m                       Traceback (most recent call last)",
      "\u001b[1;32m<ipython-input-3-0ef6462ec9ae>\u001b[0m in \u001b[0;36m<module>\u001b[1;34m()\u001b[0m\n\u001b[0;32m      2\u001b[0m \u001b[1;32mimport\u001b[0m \u001b[0mnumpy\u001b[0m \u001b[1;32mas\u001b[0m \u001b[0mnp\u001b[0m\u001b[1;33m\u001b[0m\u001b[0m\n\u001b[0;32m      3\u001b[0m \u001b[1;32mimport\u001b[0m \u001b[0mmatplotlib\u001b[0m\u001b[1;33m.\u001b[0m\u001b[0mpyplot\u001b[0m \u001b[1;32mas\u001b[0m \u001b[0mplt\u001b[0m\u001b[1;33m\u001b[0m\u001b[0m\n\u001b[1;32m----> 4\u001b[1;33m \u001b[1;32mfrom\u001b[0m \u001b[0msklearn\u001b[0m\u001b[1;33m.\u001b[0m\u001b[0mcluster\u001b[0m \u001b[1;32mimport\u001b[0m \u001b[0mKMeans\u001b[0m\u001b[1;33m\u001b[0m\u001b[0m\n\u001b[0m\u001b[0;32m      5\u001b[0m \u001b[1;33m\u001b[0m\u001b[0m\n\u001b[0;32m      6\u001b[0m \u001b[1;32mimport\u001b[0m \u001b[0msys\u001b[0m\u001b[1;33m\u001b[0m\u001b[0m\n",
      "\u001b[1;31mModuleNotFoundError\u001b[0m: No module named 'sklearn'"
     ],
     "output_type": "error"
    }
   ],
   "source": [
    "import pandas as pd\n",
    "import numpy as np\n",
    "import matplotlib.pyplot as plt\n",
    "from sklearn.cluster import KMeans\n",
    "\n",
    "import sys\n",
    "\n",
    "stdout = sys.stdout\n",
    "reload(sys)\n",
    "sys.setdefaultencoding('utf-8')\n",
    "sys.stdout = stdout\n",
    "\n",
    "plt.rcParams['font.sans-serif'] = ['SimHei']    \n",
    "plt.rcParams['axes.unicode_minus'] = False\n",
    "\n",
    "#所有在售房源信息\n",
    "house=pd.read_csv('houseinfo.csv')\n",
    "\n",
    "# 所有小区信息\n",
    "community=pd.read_csv('community.csv')\n",
    "\n",
    "# 合并小区信息和房源信息表，可以获得房源更详细的地理位置\n",
    "community['community'] = community['title']\n",
    "house_detail = pd.merge(house, community, on='community')"
   ]
  },
  {
   "cell_type": "markdown",
   "metadata": {},
   "source": [
    "## 将数据从字符串提取出来"
   ]
  },
  {
   "cell_type": "code",
   "execution_count": 2,
   "metadata": {},
   "outputs": [],
   "source": [
    "# 将字符串转换成数字\n",
    "def data_adj(area_data, str):       \n",
    "    if str in area_data :        \n",
    "        return float(area_data[0 : area_data.find(str)])    \n",
    "    else :        \n",
    "        return None\n",
    "# 处理房屋面积数据\n",
    "house['square'] = house['square'].apply(data_adj,str = '平米')"
   ]
  },
  {
   "cell_type": "markdown",
   "metadata": {},
   "source": [
    "## 删除车位信息"
   ]
  },
  {
   "cell_type": "code",
   "execution_count": 3,
   "metadata": {},
   "outputs": [
    {
     "name": "stdout",
     "output_type": "stream",
     "text": [
      "记录中共有车位32个\n",
      "现在还剩下16076条记录\n"
     ]
    }
   ],
   "source": [
    "car=house[house.housetype.str.contains('车位')]\n",
    "print '记录中共有车位%d个'%car.shape[0]\n",
    "house.drop(car.index,inplace=True)\n",
    "print '现在还剩下%d条记录'%house.shape[0]"
   ]
  },
  {
   "cell_type": "markdown",
   "metadata": {},
   "source": [
    "## 价格最高的5个别墅"
   ]
  },
  {
   "cell_type": "code",
   "execution_count": 4,
   "metadata": {},
   "outputs": [
    {
     "name": "stdout",
     "output_type": "stream",
     "text": [
      "记录中共有别墅50栋\n"
     ]
    },
    {
     "data": {
      "text/html": [
       "<div>\n",
       "<style scoped>\n",
       "    .dataframe tbody tr th:only-of-type {\n",
       "        vertical-align: middle;\n",
       "    }\n",
       "\n",
       "    .dataframe tbody tr th {\n",
       "        vertical-align: top;\n",
       "    }\n",
       "\n",
       "    .dataframe thead th {\n",
       "        text-align: right;\n",
       "    }\n",
       "</style>\n",
       "<table border=\"1\" class=\"dataframe\">\n",
       "  <thead>\n",
       "    <tr style=\"text-align: right;\">\n",
       "      <th></th>\n",
       "      <th>houseID</th>\n",
       "      <th>title</th>\n",
       "      <th>link</th>\n",
       "      <th>community</th>\n",
       "      <th>years</th>\n",
       "      <th>housetype</th>\n",
       "      <th>square</th>\n",
       "      <th>direction</th>\n",
       "      <th>floor</th>\n",
       "      <th>taxtype</th>\n",
       "      <th>totalPrice</th>\n",
       "      <th>unitPrice</th>\n",
       "      <th>followInfo</th>\n",
       "      <th>validdate</th>\n",
       "    </tr>\n",
       "  </thead>\n",
       "  <tbody>\n",
       "    <tr>\n",
       "      <th>8020</th>\n",
       "      <td>101102078117</td>\n",
       "      <td>香山清琴二期独栋别墅，毛坯房原始户型，花园1200平米</td>\n",
       "      <td>https://bj.lianjia.com/ershoufang/101102078117...</td>\n",
       "      <td>香山清琴</td>\n",
       "      <td>2层2007年建</td>\n",
       "      <td>独栋别墅</td>\n",
       "      <td>NaN</td>\n",
       "      <td>1002.56平米</td>\n",
       "      <td>2层2007年建</td>\n",
       "      <td>房本满五年</td>\n",
       "      <td>12500</td>\n",
       "      <td>124681</td>\n",
       "      <td>45人关注 / 共7次带看 / 2个月以前发布</td>\n",
       "      <td>2017-11-29 14:31:35</td>\n",
       "    </tr>\n",
       "    <tr>\n",
       "      <th>102</th>\n",
       "      <td>101100652295</td>\n",
       "      <td>千尺独栋 北入户 红顶商人金融界入住社区</td>\n",
       "      <td>https://bj.lianjia.com/ershoufang/101100652295...</td>\n",
       "      <td>龙湖颐和原著</td>\n",
       "      <td>2层2010年建</td>\n",
       "      <td>独栋别墅</td>\n",
       "      <td>NaN</td>\n",
       "      <td>1071.32平米</td>\n",
       "      <td>2层2010年建</td>\n",
       "      <td>距离4号线西苑站839米房本满五年</td>\n",
       "      <td>12000</td>\n",
       "      <td>112012</td>\n",
       "      <td>231人关注 / 共26次带看 / 一年前发布</td>\n",
       "      <td>2017-11-29 14:36:53</td>\n",
       "    </tr>\n",
       "    <tr>\n",
       "      <th>2729</th>\n",
       "      <td>101101641953</td>\n",
       "      <td>临湖独栋别墅 花园半亩 观景湖面和绿化 满五年有车库房主自荐</td>\n",
       "      <td>https://bj.lianjia.com/ershoufang/101101641953...</td>\n",
       "      <td>紫玉山庄</td>\n",
       "      <td>3层2000年建</td>\n",
       "      <td>独栋别墅</td>\n",
       "      <td>NaN</td>\n",
       "      <td>403.72平米</td>\n",
       "      <td>3层2000年建</td>\n",
       "      <td>房本满五年</td>\n",
       "      <td>6000</td>\n",
       "      <td>148618</td>\n",
       "      <td>108人关注 / 共16次带看 / 5个月以前发布</td>\n",
       "      <td>2017-11-28 16:42:18</td>\n",
       "    </tr>\n",
       "    <tr>\n",
       "      <th>3141</th>\n",
       "      <td>101101684273</td>\n",
       "      <td>银湖别墅 独栋 望京公园旁 五环里 封闭式社区</td>\n",
       "      <td>https://bj.lianjia.com/ershoufang/101101684273...</td>\n",
       "      <td>银湖别墅</td>\n",
       "      <td>3层1998年建</td>\n",
       "      <td>独栋别墅</td>\n",
       "      <td>NaN</td>\n",
       "      <td>383.59平米</td>\n",
       "      <td>3层1998年建</td>\n",
       "      <td>房本满五年</td>\n",
       "      <td>5000</td>\n",
       "      <td>130348</td>\n",
       "      <td>9人关注 / 共3次带看 / 5个月以前发布</td>\n",
       "      <td>2017-11-28 15:20:06</td>\n",
       "    </tr>\n",
       "    <tr>\n",
       "      <th>4112</th>\n",
       "      <td>101101796191</td>\n",
       "      <td>首排别墅 位置好 全景小区绿化和人工湖 有车库</td>\n",
       "      <td>https://bj.lianjia.com/ershoufang/101101796191...</td>\n",
       "      <td>亚运新新家园朗月园一期</td>\n",
       "      <td>1层2003年建</td>\n",
       "      <td>联排别墅</td>\n",
       "      <td>NaN</td>\n",
       "      <td>461.37平米</td>\n",
       "      <td>1层2003年建</td>\n",
       "      <td>房本满五年</td>\n",
       "      <td>3800</td>\n",
       "      <td>82364</td>\n",
       "      <td>0人关注 / 共4次带看 / 4个月以前发布</td>\n",
       "      <td>2017-11-28 15:34:28</td>\n",
       "    </tr>\n",
       "  </tbody>\n",
       "</table>\n",
       "</div>"
      ],
      "text/plain": [
       "           houseID                           title  \\\n",
       "8020  101102078117     香山清琴二期独栋别墅，毛坯房原始户型，花园1200平米   \n",
       "102   101100652295            千尺独栋 北入户 红顶商人金融界入住社区   \n",
       "2729  101101641953  临湖独栋别墅 花园半亩 观景湖面和绿化 满五年有车库房主自荐   \n",
       "3141  101101684273         银湖别墅 独栋 望京公园旁 五环里 封闭式社区   \n",
       "4112  101101796191         首排别墅 位置好 全景小区绿化和人工湖 有车库   \n",
       "\n",
       "                                                   link    community  \\\n",
       "8020  https://bj.lianjia.com/ershoufang/101102078117...         香山清琴   \n",
       "102   https://bj.lianjia.com/ershoufang/101100652295...       龙湖颐和原著   \n",
       "2729  https://bj.lianjia.com/ershoufang/101101641953...         紫玉山庄   \n",
       "3141  https://bj.lianjia.com/ershoufang/101101684273...         银湖别墅   \n",
       "4112  https://bj.lianjia.com/ershoufang/101101796191...  亚运新新家园朗月园一期   \n",
       "\n",
       "         years housetype  square  direction     floor            taxtype  \\\n",
       "8020  2层2007年建      独栋别墅     NaN  1002.56平米  2层2007年建              房本满五年   \n",
       "102   2层2010年建      独栋别墅     NaN  1071.32平米  2层2010年建  距离4号线西苑站839米房本满五年   \n",
       "2729  3层2000年建      独栋别墅     NaN   403.72平米  3层2000年建              房本满五年   \n",
       "3141  3层1998年建      独栋别墅     NaN   383.59平米  3层1998年建              房本满五年   \n",
       "4112  1层2003年建      联排别墅     NaN   461.37平米  1层2003年建              房本满五年   \n",
       "\n",
       "      totalPrice  unitPrice                 followInfo            validdate  \n",
       "8020       12500     124681    45人关注 / 共7次带看 / 2个月以前发布  2017-11-29 14:31:35  \n",
       "102        12000     112012    231人关注 / 共26次带看 / 一年前发布  2017-11-29 14:36:53  \n",
       "2729        6000     148618  108人关注 / 共16次带看 / 5个月以前发布  2017-11-28 16:42:18  \n",
       "3141        5000     130348     9人关注 / 共3次带看 / 5个月以前发布  2017-11-28 15:20:06  \n",
       "4112        3800      82364     0人关注 / 共4次带看 / 4个月以前发布  2017-11-28 15:34:28  "
      ]
     },
     "execution_count": 4,
     "metadata": {},
     "output_type": "execute_result"
    }
   ],
   "source": [
    "bieshu=house[house.housetype.str.contains('别墅')]\n",
    "print '记录中共有别墅%d栋'%bieshu.shape[0]\n",
    "bieshu.sort_values('totalPrice',ascending=False).head(5)"
   ]
  },
  {
   "cell_type": "markdown",
   "metadata": {},
   "source": [
    "## 删除别墅信息"
   ]
  },
  {
   "cell_type": "code",
   "execution_count": 5,
   "metadata": {},
   "outputs": [
    {
     "name": "stdout",
     "output_type": "stream",
     "text": [
      "现在还剩下16026条记录\n"
     ]
    }
   ],
   "source": [
    "house.drop(bieshu.index,inplace=True)\n",
    "print '现在还剩下%d条记录'%house.shape[0]"
   ]
  },
  {
   "cell_type": "markdown",
   "metadata": {},
   "source": [
    "## 获取总价前五的房源信息"
   ]
  },
  {
   "cell_type": "code",
   "execution_count": 6,
   "metadata": {},
   "outputs": [
    {
     "data": {
      "text/html": [
       "<div>\n",
       "<style scoped>\n",
       "    .dataframe tbody tr th:only-of-type {\n",
       "        vertical-align: middle;\n",
       "    }\n",
       "\n",
       "    .dataframe tbody tr th {\n",
       "        vertical-align: top;\n",
       "    }\n",
       "\n",
       "    .dataframe thead th {\n",
       "        text-align: right;\n",
       "    }\n",
       "</style>\n",
       "<table border=\"1\" class=\"dataframe\">\n",
       "  <thead>\n",
       "    <tr style=\"text-align: right;\">\n",
       "      <th></th>\n",
       "      <th>houseID</th>\n",
       "      <th>title</th>\n",
       "      <th>link</th>\n",
       "      <th>community</th>\n",
       "      <th>years</th>\n",
       "      <th>housetype</th>\n",
       "      <th>square</th>\n",
       "      <th>direction</th>\n",
       "      <th>floor</th>\n",
       "      <th>taxtype</th>\n",
       "      <th>totalPrice</th>\n",
       "      <th>unitPrice</th>\n",
       "      <th>followInfo</th>\n",
       "      <th>validdate</th>\n",
       "    </tr>\n",
       "  </thead>\n",
       "  <tbody>\n",
       "    <tr>\n",
       "      <th>8571</th>\n",
       "      <td>101102105035</td>\n",
       "      <td>中关村创业大街对过 有名的公司入驻其中正规写字楼</td>\n",
       "      <td>https://bj.lianjia.com/ershoufang/101102105035...</td>\n",
       "      <td>银科大厦</td>\n",
       "      <td>低楼层(共22层)2004年建塔楼</td>\n",
       "      <td>1房间0卫</td>\n",
       "      <td>2623.28</td>\n",
       "      <td>东 南 西 北</td>\n",
       "      <td>低楼层(共22层)2004年建塔楼</td>\n",
       "      <td>距离10号线苏州街站898米房本满五年</td>\n",
       "      <td>12000</td>\n",
       "      <td>45745</td>\n",
       "      <td>1人关注 / 共0次带看 / 2个月以前发布</td>\n",
       "      <td>2017-11-29 14:07:32</td>\n",
       "    </tr>\n",
       "    <tr>\n",
       "      <th>11758</th>\n",
       "      <td>101102235883</td>\n",
       "      <td>中关村创业大街对过 有名的公司入驻其中正规一层底商</td>\n",
       "      <td>https://bj.lianjia.com/ershoufang/101102235883...</td>\n",
       "      <td>银科大厦</td>\n",
       "      <td>底层(共22层)2004年建塔楼</td>\n",
       "      <td>1房间0卫</td>\n",
       "      <td>1182.80</td>\n",
       "      <td>东北</td>\n",
       "      <td>底层(共22层)2004年建塔楼</td>\n",
       "      <td>距离10号线苏州街站898米房本满五年</td>\n",
       "      <td>12000</td>\n",
       "      <td>101455</td>\n",
       "      <td>0人关注 / 共0次带看 / 1个月以前发布</td>\n",
       "      <td>2017-11-29 14:07:33</td>\n",
       "    </tr>\n",
       "    <tr>\n",
       "      <th>2480</th>\n",
       "      <td>101101608106</td>\n",
       "      <td>西山别墅区拥有900平大花园纯独栋社区房主自荐</td>\n",
       "      <td>https://bj.lianjia.com/ershoufang/101101608106...</td>\n",
       "      <td>香山清琴</td>\n",
       "      <td>1层2007年建</td>\n",
       "      <td>7室3厅</td>\n",
       "      <td>482.16</td>\n",
       "      <td>南 北</td>\n",
       "      <td>1层2007年建</td>\n",
       "      <td>房本满五年</td>\n",
       "      <td>7000</td>\n",
       "      <td>145181</td>\n",
       "      <td>94人关注 / 共24次带看 / 6个月以前发布</td>\n",
       "      <td>2017-11-29 14:31:34</td>\n",
       "    </tr>\n",
       "    <tr>\n",
       "      <th>14492</th>\n",
       "      <td>101102306092</td>\n",
       "      <td>盘古大观 大平层 观景房 格局可塑性强！</td>\n",
       "      <td>https://bj.lianjia.com/ershoufang/101102306092...</td>\n",
       "      <td>盘古大观</td>\n",
       "      <td>中楼层(共22层)2007年建塔楼</td>\n",
       "      <td>3室2厅</td>\n",
       "      <td>671.35</td>\n",
       "      <td>东 南 西</td>\n",
       "      <td>中楼层(共22层)2007年建塔楼</td>\n",
       "      <td>NaN</td>\n",
       "      <td>6700</td>\n",
       "      <td>99799</td>\n",
       "      <td>16人关注 / 共0次带看 / 13天以前发布</td>\n",
       "      <td>2017-11-28 15:19:41</td>\n",
       "    </tr>\n",
       "    <tr>\n",
       "      <th>10154</th>\n",
       "      <td>101102178295</td>\n",
       "      <td>朝阳公园内建筑，视野好，可以俯视朝阳公园美景</td>\n",
       "      <td>https://bj.lianjia.com/ershoufang/101102178295...</td>\n",
       "      <td>霄云路8号</td>\n",
       "      <td>高楼层(共27层)2011年建塔楼</td>\n",
       "      <td>4室3厅</td>\n",
       "      <td>453.64</td>\n",
       "      <td>南 北</td>\n",
       "      <td>高楼层(共27层)2011年建塔楼</td>\n",
       "      <td>房本满两年</td>\n",
       "      <td>5500</td>\n",
       "      <td>121242</td>\n",
       "      <td>39人关注 / 共4次带看 / 1个月以前发布</td>\n",
       "      <td>2017-11-28 15:52:12</td>\n",
       "    </tr>\n",
       "  </tbody>\n",
       "</table>\n",
       "</div>"
      ],
      "text/plain": [
       "            houseID                      title  \\\n",
       "8571   101102105035   中关村创业大街对过 有名的公司入驻其中正规写字楼   \n",
       "11758  101102235883  中关村创业大街对过 有名的公司入驻其中正规一层底商   \n",
       "2480   101101608106    西山别墅区拥有900平大花园纯独栋社区房主自荐   \n",
       "14492  101102306092       盘古大观 大平层 观景房 格局可塑性强！   \n",
       "10154  101102178295     朝阳公园内建筑，视野好，可以俯视朝阳公园美景   \n",
       "\n",
       "                                                    link community  \\\n",
       "8571   https://bj.lianjia.com/ershoufang/101102105035...      银科大厦   \n",
       "11758  https://bj.lianjia.com/ershoufang/101102235883...      银科大厦   \n",
       "2480   https://bj.lianjia.com/ershoufang/101101608106...      香山清琴   \n",
       "14492  https://bj.lianjia.com/ershoufang/101102306092...      盘古大观   \n",
       "10154  https://bj.lianjia.com/ershoufang/101102178295...     霄云路8号   \n",
       "\n",
       "                   years housetype   square direction              floor  \\\n",
       "8571   低楼层(共22层)2004年建塔楼     1房间0卫  2623.28   东 南 西 北  低楼层(共22层)2004年建塔楼   \n",
       "11758   底层(共22层)2004年建塔楼     1房间0卫  1182.80        东北   底层(共22层)2004年建塔楼   \n",
       "2480            1层2007年建      7室3厅   482.16       南 北           1层2007年建   \n",
       "14492  中楼层(共22层)2007年建塔楼      3室2厅   671.35     东 南 西  中楼层(共22层)2007年建塔楼   \n",
       "10154  高楼层(共27层)2011年建塔楼      4室3厅   453.64       南 北  高楼层(共27层)2011年建塔楼   \n",
       "\n",
       "                   taxtype  totalPrice  unitPrice                followInfo  \\\n",
       "8571   距离10号线苏州街站898米房本满五年       12000      45745    1人关注 / 共0次带看 / 2个月以前发布   \n",
       "11758  距离10号线苏州街站898米房本满五年       12000     101455    0人关注 / 共0次带看 / 1个月以前发布   \n",
       "2480                 房本满五年        7000     145181  94人关注 / 共24次带看 / 6个月以前发布   \n",
       "14492                  NaN        6700      99799   16人关注 / 共0次带看 / 13天以前发布   \n",
       "10154                房本满两年        5500     121242   39人关注 / 共4次带看 / 1个月以前发布   \n",
       "\n",
       "                 validdate  \n",
       "8571   2017-11-29 14:07:32  \n",
       "11758  2017-11-29 14:07:33  \n",
       "2480   2017-11-29 14:31:34  \n",
       "14492  2017-11-28 15:19:41  \n",
       "10154  2017-11-28 15:52:12  "
      ]
     },
     "execution_count": 6,
     "metadata": {},
     "output_type": "execute_result"
    }
   ],
   "source": [
    "house.sort_values('totalPrice',ascending=False).head(5)"
   ]
  },
  {
   "cell_type": "markdown",
   "metadata": {},
   "source": [
    "## 获取户型数量分布信息"
   ]
  },
  {
   "cell_type": "code",
   "execution_count": null,
   "metadata": {},
   "outputs": [
    {
     "data": {
      "image/png": "[encoded data removed]",
      "text/plain": [
       "<matplotlib.figure.Figure at 0x10ee3f3d0>"
      ]
     },
     "metadata": {},
     "output_type": "display_data"
    }
   ],
   "source": [
    "housetype = house['housetype'].value_counts()\n",
    "housetype.head(8).plot(kind='bar',x='housetype',y='size', title='户型数量分布')\n",
    "plt.legend(['数量']) \n",
    "plt.show()"
   ]
  },
  {
   "cell_type": "markdown",
   "metadata": {},
   "source": [
    "## 关注人数最多5套房子"
   ]
  },
  {
   "cell_type": "code",
   "execution_count": 8,
   "metadata": {},
   "outputs": [
    {
     "data": {
      "text/html": [
       "<div>\n",
       "<style scoped>\n",
       "    .dataframe tbody tr th:only-of-type {\n",
       "        vertical-align: middle;\n",
       "    }\n",
       "\n",
       "    .dataframe tbody tr th {\n",
       "        vertical-align: top;\n",
       "    }\n",
       "\n",
       "    .dataframe thead th {\n",
       "        text-align: right;\n",
       "    }\n",
       "</style>\n",
       "<table border=\"1\" class=\"dataframe\">\n",
       "  <thead>\n",
       "    <tr style=\"text-align: right;\">\n",
       "      <th></th>\n",
       "      <th>houseID</th>\n",
       "      <th>title</th>\n",
       "      <th>link</th>\n",
       "      <th>community</th>\n",
       "      <th>years</th>\n",
       "      <th>housetype</th>\n",
       "      <th>square</th>\n",
       "      <th>direction</th>\n",
       "      <th>floor</th>\n",
       "      <th>taxtype</th>\n",
       "      <th>totalPrice</th>\n",
       "      <th>unitPrice</th>\n",
       "      <th>followInfo</th>\n",
       "      <th>validdate</th>\n",
       "      <th>guanzhu</th>\n",
       "    </tr>\n",
       "  </thead>\n",
       "  <tbody>\n",
       "    <tr>\n",
       "      <th>47</th>\n",
       "      <td>101100379913</td>\n",
       "      <td>弘善家园南向开间，满两年，免增值税</td>\n",
       "      <td>https://bj.lianjia.com/ershoufang/101100379913...</td>\n",
       "      <td>弘善家园</td>\n",
       "      <td>中楼层(共28层)2009年建塔楼</td>\n",
       "      <td>1室0厅</td>\n",
       "      <td>42.64</td>\n",
       "      <td>南</td>\n",
       "      <td>中楼层(共28层)2009年建塔楼</td>\n",
       "      <td>距离10号线十里河站698米房本满两年随时看房</td>\n",
       "      <td>265</td>\n",
       "      <td>62149</td>\n",
       "      <td>1401人关注 / 共305次带看 / 一年前发布</td>\n",
       "      <td>2017-11-29 09:34:23</td>\n",
       "      <td>1401.0</td>\n",
       "    </tr>\n",
       "    <tr>\n",
       "      <th>2313</th>\n",
       "      <td>101101588951</td>\n",
       "      <td>四惠东 康家园 南向一居室 地铁1号线出行房主自荐</td>\n",
       "      <td>https://bj.lianjia.com/ershoufang/101101588951...</td>\n",
       "      <td>康家园</td>\n",
       "      <td>顶层(共6层)1995年建板楼</td>\n",
       "      <td>1室1厅</td>\n",
       "      <td>41.97</td>\n",
       "      <td>南</td>\n",
       "      <td>顶层(共6层)1995年建板楼</td>\n",
       "      <td>距离1号线四惠东站974米房本满五年随时看房</td>\n",
       "      <td>262</td>\n",
       "      <td>62426</td>\n",
       "      <td>1005人关注 / 共86次带看 / 6个月以前发布</td>\n",
       "      <td>2017-11-28 17:21:58</td>\n",
       "      <td>1005.0</td>\n",
       "    </tr>\n",
       "    <tr>\n",
       "      <th>990</th>\n",
       "      <td>101101355617</td>\n",
       "      <td>远见名苑  东南两居  满五年家庭唯一住房 诚心出售房主自荐</td>\n",
       "      <td>https://bj.lianjia.com/ershoufang/101101355617...</td>\n",
       "      <td>远见名苑</td>\n",
       "      <td>中楼层(共24层)2004年建塔楼</td>\n",
       "      <td>2室1厅</td>\n",
       "      <td>90.14</td>\n",
       "      <td>东南</td>\n",
       "      <td>中楼层(共24层)2004年建塔楼</td>\n",
       "      <td>距离7号线达官营站516米房本满五年</td>\n",
       "      <td>811</td>\n",
       "      <td>89972</td>\n",
       "      <td>979人关注 / 共50次带看 / 8个月以前发布</td>\n",
       "      <td>2017-11-29 10:09:39</td>\n",
       "      <td>979.0</td>\n",
       "    </tr>\n",
       "    <tr>\n",
       "      <th>2331</th>\n",
       "      <td>101101590746</td>\n",
       "      <td>荣丰二期朝南复式无遮挡全天采光房主自荐</td>\n",
       "      <td>https://bj.lianjia.com/ershoufang/101101590746...</td>\n",
       "      <td>荣丰2008</td>\n",
       "      <td>中楼层(共10层)2005年建塔楼</td>\n",
       "      <td>1室1厅</td>\n",
       "      <td>32.54</td>\n",
       "      <td>南</td>\n",
       "      <td>中楼层(共10层)2005年建塔楼</td>\n",
       "      <td>距离7号线达官营站1028米房本满五年随时看房</td>\n",
       "      <td>400</td>\n",
       "      <td>122926</td>\n",
       "      <td>972人关注 / 共369次带看 / 6个月以前发布</td>\n",
       "      <td>2017-11-29 10:08:38</td>\n",
       "      <td>972.0</td>\n",
       "    </tr>\n",
       "    <tr>\n",
       "      <th>915</th>\n",
       "      <td>101101327417</td>\n",
       "      <td>通州万达北苑地铁站 天时名苑 大两居可改3居</td>\n",
       "      <td>https://bj.lianjia.com/ershoufang/101101327417...</td>\n",
       "      <td>天时名苑</td>\n",
       "      <td>顶层(共9层)2009年建板塔结合</td>\n",
       "      <td>2室2厅</td>\n",
       "      <td>121.30</td>\n",
       "      <td>南 北</td>\n",
       "      <td>顶层(共9层)2009年建板塔结合</td>\n",
       "      <td>距离八通线通州北苑站602米房本满五年</td>\n",
       "      <td>645</td>\n",
       "      <td>53174</td>\n",
       "      <td>894人关注 / 共228次带看 / 8个月以前发布</td>\n",
       "      <td>2017-11-29 09:20:13</td>\n",
       "      <td>894.0</td>\n",
       "    </tr>\n",
       "  </tbody>\n",
       "</table>\n",
       "</div>"
      ],
      "text/plain": [
       "           houseID                           title  \\\n",
       "47    101100379913               弘善家园南向开间，满两年，免增值税   \n",
       "2313  101101588951       四惠东 康家园 南向一居室 地铁1号线出行房主自荐   \n",
       "990   101101355617  远见名苑  东南两居  满五年家庭唯一住房 诚心出售房主自荐   \n",
       "2331  101101590746             荣丰二期朝南复式无遮挡全天采光房主自荐   \n",
       "915   101101327417          通州万达北苑地铁站 天时名苑 大两居可改3居   \n",
       "\n",
       "                                                   link community  \\\n",
       "47    https://bj.lianjia.com/ershoufang/101100379913...      弘善家园   \n",
       "2313  https://bj.lianjia.com/ershoufang/101101588951...       康家园   \n",
       "990   https://bj.lianjia.com/ershoufang/101101355617...      远见名苑   \n",
       "2331  https://bj.lianjia.com/ershoufang/101101590746...    荣丰2008   \n",
       "915   https://bj.lianjia.com/ershoufang/101101327417...      天时名苑   \n",
       "\n",
       "                  years housetype  square direction              floor  \\\n",
       "47    中楼层(共28层)2009年建塔楼      1室0厅   42.64         南  中楼层(共28层)2009年建塔楼   \n",
       "2313    顶层(共6层)1995年建板楼      1室1厅   41.97         南    顶层(共6层)1995年建板楼   \n",
       "990   中楼层(共24层)2004年建塔楼      2室1厅   90.14        东南  中楼层(共24层)2004年建塔楼   \n",
       "2331  中楼层(共10层)2005年建塔楼      1室1厅   32.54         南  中楼层(共10层)2005年建塔楼   \n",
       "915   顶层(共9层)2009年建板塔结合      2室2厅  121.30       南 北  顶层(共9层)2009年建板塔结合   \n",
       "\n",
       "                      taxtype  totalPrice  unitPrice  \\\n",
       "47    距离10号线十里河站698米房本满两年随时看房         265      62149   \n",
       "2313   距离1号线四惠东站974米房本满五年随时看房         262      62426   \n",
       "990        距离7号线达官营站516米房本满五年         811      89972   \n",
       "2331  距离7号线达官营站1028米房本满五年随时看房         400     122926   \n",
       "915       距离八通线通州北苑站602米房本满五年         645      53174   \n",
       "\n",
       "                      followInfo            validdate  guanzhu  \n",
       "47     1401人关注 / 共305次带看 / 一年前发布  2017-11-29 09:34:23   1401.0  \n",
       "2313  1005人关注 / 共86次带看 / 6个月以前发布  2017-11-28 17:21:58   1005.0  \n",
       "990    979人关注 / 共50次带看 / 8个月以前发布  2017-11-29 10:09:39    979.0  \n",
       "2331  972人关注 / 共369次带看 / 6个月以前发布  2017-11-29 10:08:38    972.0  \n",
       "915   894人关注 / 共228次带看 / 8个月以前发布  2017-11-29 09:20:13    894.0  "
      ]
     },
     "execution_count": 8,
     "metadata": {},
     "output_type": "execute_result"
    }
   ],
   "source": [
    "house['guanzhu'] = house['followInfo'].apply(data_adj,str = '人关注')\n",
    "house.sort_values('guanzhu',ascending=False).head(5)"
   ]
  },
  {
   "cell_type": "markdown",
   "metadata": {},
   "source": [
    "## 户型和关注人数分布"
   ]
  },
  {
   "cell_type": "code",
   "execution_count": 9,
   "metadata": {},
   "outputs": [
    {
     "data": {
      "image/png": "[encoded data removed]",
      "text/plain": [
       "<matplotlib.figure.Figure at 0x1078ddc10>"
      ]
     },
     "metadata": {},
     "output_type": "display_data"
    }
   ],
   "source": [
    "fig, ax1 = plt.subplots(1,1)    \n",
    "type_interest_group = house['guanzhu'].groupby(house['housetype']).agg([('户型', 'count'), ('关注人数', 'sum')])    \n",
    "#取户型>50的数据进行可视化\n",
    "ti_sort = type_interest_group[type_interest_group['户型'] > 50].sort_values(by='户型')    \n",
    "ti_sort.plot(kind='barh', alpha=0.7, grid=True, ax=ax1)    \n",
    "plt.title('二手房户型和关注人数分布')    \n",
    "plt.ylabel('户型') \n",
    "plt.show()"
   ]
  },
  {
   "cell_type": "markdown",
   "metadata": {},
   "source": [
    "## 面积分布"
   ]
  },
  {
   "cell_type": "code",
   "execution_count": 10,
   "metadata": {},
   "outputs": [
    {
     "data": {
      "image/png": "[encoded data removed]",
      "text/plain": [
       "<matplotlib.figure.Figure at 0x10f199c50>"
      ]
     },
     "metadata": {},
     "output_type": "display_data"
    }
   ],
   "source": [
    "fig,ax2 = plt.subplots(1,1)    \n",
    "area_level = [0, 50, 100, 150, 200, 250, 300, 500]    \n",
    "label_level = ['小于50', '50-100', '100-150', '150-200', '200-250', '250-300', '300-350']    \n",
    "area_cut = pd.cut(house['square'], area_level, labels=label_level)        \n",
    "area_cut.value_counts().plot(kind='bar', rot=30, alpha=0.4, grid=True, fontsize='small', ax=ax2)    \n",
    "plt.title('二手房面积分布')    \n",
    "plt.xlabel('面积')    \n",
    "plt.legend(['数量'])    \n",
    "plt.show()"
   ]
  },
  {
   "cell_type": "markdown",
   "metadata": {},
   "source": [
    "## 聚类分析"
   ]
  },
  {
   "cell_type": "code",
   "execution_count": 11,
   "metadata": {},
   "outputs": [
    {
     "data": {
      "text/html": [
       "<div>\n",
       "<style scoped>\n",
       "    .dataframe tbody tr th:only-of-type {\n",
       "        vertical-align: middle;\n",
       "    }\n",
       "\n",
       "    .dataframe tbody tr th {\n",
       "        vertical-align: top;\n",
       "    }\n",
       "\n",
       "    .dataframe thead th {\n",
       "        text-align: right;\n",
       "    }\n",
       "</style>\n",
       "<table border=\"1\" class=\"dataframe\">\n",
       "  <thead>\n",
       "    <tr style=\"text-align: right;\">\n",
       "      <th></th>\n",
       "      <th>关注人数</th>\n",
       "      <th>面积</th>\n",
       "      <th>房价</th>\n",
       "    </tr>\n",
       "  </thead>\n",
       "  <tbody>\n",
       "    <tr>\n",
       "      <th>0</th>\n",
       "      <td>49.828329</td>\n",
       "      <td>135.012281</td>\n",
       "      <td>1139.387478</td>\n",
       "    </tr>\n",
       "    <tr>\n",
       "      <th>1</th>\n",
       "      <td>48.573579</td>\n",
       "      <td>256.357676</td>\n",
       "      <td>2549.974916</td>\n",
       "    </tr>\n",
       "    <tr>\n",
       "      <th>2</th>\n",
       "      <td>61.465875</td>\n",
       "      <td>74.495457</td>\n",
       "      <td>515.516434</td>\n",
       "    </tr>\n",
       "  </tbody>\n",
       "</table>\n",
       "</div>"
      ],
      "text/plain": [
       "        关注人数          面积           房价\n",
       "0  49.828329  135.012281  1139.387478\n",
       "1  48.573579  256.357676  2549.974916\n",
       "2  61.465875   74.495457   515.516434"
      ]
     },
     "execution_count": 11,
     "metadata": {},
     "output_type": "execute_result"
    }
   ],
   "source": [
    "# 缺失值处理:直接将缺失值去掉    \n",
    "cluster_data = house[['guanzhu','square','totalPrice']].dropna()    \n",
    "#将簇数设为3    \n",
    "K_model = KMeans(n_clusters=3)    \n",
    "alg = K_model.fit(cluster_data)    \n",
    "'------聚类中心------'   \n",
    "center = pd.DataFrame(alg.cluster_centers_, columns=['关注人数','面积','房价'])    \n",
    "cluster_data['label'] = alg.labels_ \n",
    "center"
   ]
  },
  {
   "cell_type": "markdown",
   "metadata": {},
   "source": [
    "## 北京市在售面积最小二手房"
   ]
  },
  {
   "cell_type": "code",
   "execution_count": 12,
   "metadata": {},
   "outputs": [
    {
     "data": {
      "text/plain": [
       "houseID                                            101102324602\n",
       "title                                      智德北巷（北河沿大街）+小户型一居+南向\n",
       "link          https://bj.lianjia.com/ershoufang/101102324602...\n",
       "community                                                  智德北巷\n",
       "years                                          中楼层(共6层)1985年建板楼\n",
       "housetype                                                  1室0厅\n",
       "square                                                    15.29\n",
       "direction                                                     南\n",
       "floor                                          中楼层(共6层)1985年建板楼\n",
       "taxtype                                          距离5号线灯市口站1113米\n",
       "totalPrice                                                  220\n",
       "unitPrice                                                143885\n",
       "followInfo                               56人关注 / 共2次带看 / 8天以前发布\n",
       "validdate                                   2017-11-29 13:23:16\n",
       "guanzhu                                                      56\n",
       "Name: 15260, dtype: object"
      ]
     },
     "execution_count": 12,
     "metadata": {},
     "output_type": "execute_result"
    }
   ],
   "source": [
    "house.sort_values('square').iloc[0,:]"
   ]
  },
  {
   "cell_type": "markdown",
   "metadata": {},
   "source": [
    "## 北京市在售面积最大二手房"
   ]
  },
  {
   "cell_type": "code",
   "execution_count": 13,
   "metadata": {},
   "outputs": [
    {
     "data": {
      "text/plain": [
       "houseID                                            101102105035\n",
       "title                                  中关村创业大街对过 有名的公司入驻其中正规写字楼\n",
       "link          https://bj.lianjia.com/ershoufang/101102105035...\n",
       "community                                                  银科大厦\n",
       "years                                         低楼层(共22层)2004年建塔楼\n",
       "housetype                                                 1房间0卫\n",
       "square                                                  2623.28\n",
       "direction                                               东 南 西 北\n",
       "floor                                         低楼层(共22层)2004年建塔楼\n",
       "taxtype                                     距离10号线苏州街站898米房本满五年\n",
       "totalPrice                                                12000\n",
       "unitPrice                                                 45745\n",
       "followInfo                               1人关注 / 共0次带看 / 2个月以前发布\n",
       "validdate                                   2017-11-29 14:07:32\n",
       "guanzhu                                                       1\n",
       "Name: 8571, dtype: object"
      ]
     },
     "execution_count": 13,
     "metadata": {},
     "output_type": "execute_result"
    }
   ],
   "source": [
    "house.sort_values('square',ascending=False).iloc[0,:]"
   ]
  },
  {
   "cell_type": "markdown",
   "metadata": {},
   "source": [
    "## 各个行政区房源均价"
   ]
  },
  {
   "cell_type": "code",
   "execution_count": 14,
   "metadata": {},
   "outputs": [
    {
     "data": {
      "image/png": "[encoded data removed]",
      "text/plain": [
       "<matplotlib.figure.Figure at 0x1078c1f50>"
      ]
     },
     "metadata": {},
     "output_type": "display_data"
    }
   ],
   "source": [
    "house_unitprice_perdistrict = house_detail.groupby('district').mean()['unitPrice']\n",
    "house_unitprice_perdistrict.plot(kind='bar',x='district',y='unitPrice', title='各个行政区房源均价')\n",
    "plt.legend(['均价']) \n",
    "plt.show()"
   ]
  },
  {
   "cell_type": "markdown",
   "metadata": {},
   "source": [
    "## 各个区域房源数量排序"
   ]
  },
  {
   "cell_type": "code",
   "execution_count": 15,
   "metadata": {
    "collapsed": true
   },
   "outputs": [
    {
     "data": {
      "image/png": "[encoded data removed]",
      "text/plain": [
       "<matplotlib.figure.Figure at 0x10f199250>"
      ]
     },
     "metadata": {},
     "output_type": "display_data"
    }
   ],
   "source": [
    "bizcircle_count=house_detail.groupby('bizcircle').size().sort_values(ascending=False)\n",
    "bizcircle_count.head(20).plot(kind='bar',x='bizcircle',y='size', title='各个区域房源数量分布')\n",
    "plt.legend(['数量']) \n",
    "plt.show()"
   ]
  },
  {
   "cell_type": "markdown",
   "metadata": {},
   "source": [
    "## 各个区域均价排序"
   ]
  },
  {
   "cell_type": "code",
   "execution_count": 1,
   "metadata": {
    "collapsed": true
   },
   "outputs": [
    {
     "ename": "NameError",
     "evalue": "name 'house_detail' is not defined",
     "traceback": [
      "\u001b[1;31m---------------------------------------------------------------------------\u001b[0m",
      "\u001b[1;31mNameError\u001b[0m                                 Traceback (most recent call last)",
      "\u001b[1;32m<ipython-input-1-9dd737c25e14>\u001b[0m in \u001b[0;36m<module>\u001b[1;34m()\u001b[0m\n\u001b[1;32m----> 1\u001b[1;33m \u001b[0mbizcircle_unitprice\u001b[0m\u001b[1;33m=\u001b[0m\u001b[0mhouse_detail\u001b[0m\u001b[1;33m.\u001b[0m\u001b[0mgroupby\u001b[0m\u001b[1;33m(\u001b[0m\u001b[1;34m'bizcircle'\u001b[0m\u001b[1;33m)\u001b[0m\u001b[1;33m.\u001b[0m\u001b[0mmean\u001b[0m\u001b[1;33m(\u001b[0m\u001b[1;33m)\u001b[0m\u001b[1;33m[\u001b[0m\u001b[1;34m'unitPrice'\u001b[0m\u001b[1;33m]\u001b[0m\u001b[1;33m.\u001b[0m\u001b[0msort_values\u001b[0m\u001b[1;33m(\u001b[0m\u001b[0mascending\u001b[0m\u001b[1;33m=\u001b[0m\u001b[1;32mFalse\u001b[0m\u001b[1;33m)\u001b[0m\u001b[1;33m\u001b[0m\u001b[0m\n\u001b[0m\u001b[0;32m      2\u001b[0m \u001b[0mbizcircle_unitprice\u001b[0m\u001b[1;33m.\u001b[0m\u001b[0mhead\u001b[0m\u001b[1;33m(\u001b[0m\u001b[1;36m20\u001b[0m\u001b[1;33m)\u001b[0m\u001b[1;33m.\u001b[0m\u001b[0mplot\u001b[0m\u001b[1;33m(\u001b[0m\u001b[0mkind\u001b[0m\u001b[1;33m=\u001b[0m\u001b[1;34m'bar'\u001b[0m\u001b[1;33m,\u001b[0m\u001b[0mx\u001b[0m\u001b[1;33m=\u001b[0m\u001b[1;34m'bizcircle'\u001b[0m\u001b[1;33m,\u001b[0m\u001b[0my\u001b[0m\u001b[1;33m=\u001b[0m\u001b[1;34m'unitPrice'\u001b[0m\u001b[1;33m,\u001b[0m \u001b[0mtitle\u001b[0m\u001b[1;33m=\u001b[0m\u001b[1;34m'各个区域均价分布'\u001b[0m\u001b[1;33m)\u001b[0m\u001b[1;33m\u001b[0m\u001b[0m\n\u001b[0;32m      3\u001b[0m \u001b[0mplt\u001b[0m\u001b[1;33m.\u001b[0m\u001b[0mlegend\u001b[0m\u001b[1;33m(\u001b[0m\u001b[1;33m[\u001b[0m\u001b[1;34m'均价'\u001b[0m\u001b[1;33m]\u001b[0m\u001b[1;33m)\u001b[0m\u001b[1;33m\u001b[0m\u001b[0m\n\u001b[0;32m      4\u001b[0m \u001b[0mplt\u001b[0m\u001b[1;33m.\u001b[0m\u001b[0mshow\u001b[0m\u001b[1;33m(\u001b[0m\u001b[1;33m)\u001b[0m\u001b[1;33m\u001b[0m\u001b[0m\n",
      "\u001b[1;31mNameError\u001b[0m: name 'house_detail' is not defined"
     ],
     "output_type": "error"
    }
   ],
   "source": [
    "bizcircle_unitprice=house_detail.groupby('bizcircle').mean()['unitPrice'].sort_values(ascending=False)\n",
    "bizcircle_unitprice.head(20).plot(kind='bar',x='bizcircle',y='unitPrice', title='各个区域均价分布')\n",
    "plt.legend(['均价']) \n",
    "plt.show()"
   ]
  },
  {
   "cell_type": "markdown",
   "metadata": {},
   "source": [
    "## 各个区域小区数量"
   ]
  },
  {
   "cell_type": "code",
   "execution_count": 17,
   "metadata": {
    "collapsed": true
   },
   "outputs": [
    {
     "data": {
      "image/png": "[encoded data removed]",
      "text/plain": [
       "<matplotlib.figure.Figure at 0x10f8158d0>"
      ]
     },
     "metadata": {},
     "output_type": "display_data"
    }
   ],
   "source": [
    "bizcircle_community=community.groupby('bizcircle')['title'].size().sort_values(ascending=False)\n",
    "bizcircle_community.head(20).plot(kind='bar', x='bizcircle',y='size', title='各个区域小区数量分布')\n",
    "plt.legend(['数量']) \n",
    "plt.show()"
   ]
  },
  {
   "cell_type": "markdown",
   "metadata": {},
   "source": [
    "## 按小区均价排序"
   ]
  },
  {
   "cell_type": "code",
   "execution_count": null,
   "metadata": {
    "collapsed": true
   },
   "outputs": [],
   "source": [
    "community_unitprice = house.groupby('community').mean()['unitPrice'].sort_values(ascending=False)\n",
    "community_unitprice.head(15).plot(kind='bar',x='community',y='unitPrice', title='各个小区均价分布')\n",
    "plt.legend(['均价']) \n",
    "plt.show()"
   ]
  }
 ],
 "metadata": {
  "kernelspec": {
   "display_name": "Python 2",
   "language": "python",
   "name": "test"
  },
  "language_info": {
   "codemirror_mode": {
    "name": "ipython",
    "version": 2
   },
   "file_extension": ".py",
   "mimetype": "text/x-python",
   "name": "python",
   "nbconvert_exporter": "python",
   "pygments_lexer": "ipython2",
   "version": "2.7.10"
  }
 },
 "nbformat": 4,
 "nbformat_minor": 2
}
